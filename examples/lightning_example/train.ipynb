{
  "cells": [
    {
      "attachments": {},
      "cell_type": "markdown",
      "metadata": {
        "collapsed": false
      },
      "source": [
        "# Checkpointing ML models in PyTorch\n",
        "\n",
        "This Notebook is based on Pytorch's basic example: https://pytorch.org/tutorials/beginner/basics/quickstart_tutorial.html#saving-models"
      ]
    },
    {
      "cell_type": "code",
      "execution_count": null,
      "metadata": {},
      "outputs": [],
      "source": [
        "%load_ext autoreload\n",
        "%autoreload 2"
      ]
    },
    {
      "cell_type": "code",
      "execution_count": null,
      "metadata": {},
      "outputs": [],
      "source": [
        "\n",
        "import torch\n",
        "from torch import nn\n",
        "from torch.utils.data import DataLoader\n",
        "from torchvision import datasets\n",
        "from torchvision.transforms import ToTensor\n",
        "import pytorch_lightning as ptl\n",
        "from pytorch_lightning import Trainer"
      ]
    },
    {
      "cell_type": "code",
      "execution_count": null,
      "metadata": {
        "collapsed": false
      },
      "outputs": [],
      "source": [
        "# Download training data from open datasets.\n",
        "training_data = datasets.FashionMNIST(\n",
        "    root=\"data\",\n",
        "    train=True,\n",
        "    download=True,\n",
        "    transform=ToTensor(),\n",
        ")\n",
        "\n",
        "# Download test data from open datasets.\n",
        "test_data = datasets.FashionMNIST(\n",
        "    root=\"data\",\n",
        "    train=False,\n",
        "    download=True,\n",
        "    transform=ToTensor(),\n",
        ")"
      ]
    },
    {
      "cell_type": "code",
      "execution_count": null,
      "metadata": {
        "collapsed": false
      },
      "outputs": [],
      "source": [
        "batch_size = 256\n",
        "\n",
        "# Create data loaders.\n",
        "train_dataloader = DataLoader(training_data, batch_size=batch_size, num_workers = 4)\n",
        "test_dataloader = DataLoader(test_data, batch_size=batch_size, num_workers = 4)\n",
        "\n",
        "for X, y in test_dataloader:\n",
        "    print(f\"Shape of X [N, C, H, W]: {X.shape}\")\n",
        "    print(f\"Shape of y: {y.shape} {y.dtype}\")\n",
        "    break"
      ]
    },
    {
      "cell_type": "code",
      "execution_count": null,
      "metadata": {
        "collapsed": false
      },
      "outputs": [],
      "source": [
        "import pytorch_lightning as pl\n",
        "class LightningModuleExample(pl.LightningModule):\n",
        "    def __init__(self):\n",
        "        super().__init__()\n",
        "        self.flatten = nn.Flatten()\n",
        "        self.linear_relu_stack = nn.Sequential(\n",
        "            nn.Linear(28*28, 512),\n",
        "            nn.ReLU(),\n",
        "            nn.Linear(512, 512),\n",
        "            nn.ReLU(),\n",
        "            nn.Linear(512, 10)\n",
        "        )\n",
        "        self.loss_fn = nn.CrossEntropyLoss()\n",
        "\n",
        "    def forward(self, x):\n",
        "        x = self.flatten(x)\n",
        "        logits = self.linear_relu_stack(x)\n",
        "        return logits\n",
        "\n",
        "    def training_step(self, batch, batch_idx):\n",
        "        X, y = batch\n",
        "        logits = self.forward(X)\n",
        "        loss = self.loss_fn(logits, y)\n",
        "        self.log('train_loss', loss)\n",
        "        return loss\n",
        "\n",
        "    def validation_step(self, batch, batch_idx):\n",
        "        X, y = batch\n",
        "        logits = self.forward(X)\n",
        "        loss = self.loss_fn(logits, y)\n",
        "        self.log('val_loss', loss)\n",
        "\n",
        "    def configure_optimizers(self):\n",
        "        optimizer = torch.optim.SGD(self.parameters(), lr=1e-3)\n",
        "        return optimizer\n",
        "\n",
        "model = LightningModuleExample()\n"
      ]
    },
    {
      "attachments": {},
      "cell_type": "markdown",
      "metadata": {},
      "source": [
        "## Setting up Checkpointer\n",
        "In its basic configuration, it is enough to simply save and load the model checkpoint. For a more useful application, the losses, epoch number and more can be stored defining a custom `checkpoint_function` and `restore_function`"
      ]
    },
    {
      "cell_type": "code",
      "execution_count": null,
      "metadata": {},
      "outputs": [],
      "source": [
        "from pathlib import Path\n",
        "from checkpointer.lightning_callback import CheckpointerCallback\n",
        "checkpoint_path = 'trainer_checkpoint.ckpt'\n",
        "\n",
        "checkpointer = CheckpointerCallback(\n",
        "    local_checkpoint_file=Path(checkpoint_path),\n",
        "    checkpoint_every=1\n",
        ")"
      ]
    },
    {
      "cell_type": "code",
      "execution_count": null,
      "metadata": {
        "collapsed": false
      },
      "outputs": [],
      "source": [
        "\n",
        "epochs = 500\n",
        "model = LightningModuleExample()\n",
        "trainer = Trainer(max_epochs=epochs, accelerator='gpu', callbacks = [checkpointer])\n",
        "\n",
        "trainer.fit(model, train_dataloader, test_dataloader, ckpt_path= checkpointer.restore())\n"
      ]
    },
    {
      "cell_type": "code",
      "execution_count": null,
      "metadata": {},
      "outputs": [],
      "source": [
        "checkpointer2 = CheckpointerCallback(\n",
        "    local_checkpoint_file=Path(checkpoint_path),\n",
        "    checkpoint_every=1\n",
        ")\n",
        "\n",
        "model = LightningModuleExample()\n",
        "\n",
        "# Create a new trainer instance\n",
        "trainer2 = Trainer(max_epochs=10, accelerator='gpu', callbacks = [checkpointer2])\n",
        "\n",
        "# Resume training\n",
        "trainer2.fit(model, train_dataloader, test_dataloader, ckpt_path= checkpointer2.restore())\n"
      ]
    },
    {
      "cell_type": "code",
      "execution_count": null,
      "metadata": {},
      "outputs": [],
      "source": []
    }
  ],
  "metadata": {
    "kernelspec": {
      "display_name": "Python 3 (ipykernel)",
      "language": "python",
      "name": "python3"
    },
    "language_info": {
      "codemirror_mode": {
        "name": "ipython",
        "version": 3
      },
      "file_extension": ".py",
      "mimetype": "text/x-python",
      "name": "python",
      "nbconvert_exporter": "python",
      "pygments_lexer": "ipython3",
      "version": "3.9.18"
    }
  },
  "nbformat": 4,
  "nbformat_minor": 0
}
