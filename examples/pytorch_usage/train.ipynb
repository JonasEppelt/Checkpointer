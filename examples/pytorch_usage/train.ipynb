{
  "cells": [
    {
      "attachments": {},
      "cell_type": "markdown",
      "metadata": {
        "collapsed": false
      },
      "source": [
        "# Checkpointing ML models in PyTorch\n",
        "\n",
        "This Notebook is based on Pytorch's basic example: https://pytorch.org/tutorials/beginner/basics/quickstart_tutorial.html#saving-models"
      ]
    },
    {
      "cell_type": "code",
      "execution_count": 12,
      "metadata": {},
      "outputs": [],
      "source": [
        "import torch\n",
        "from torch import nn\n",
        "from torch.utils.data import DataLoader\n",
        "from torchvision import datasets\n",
        "from torchvision.transforms import ToTensor"
      ]
    },
    {
      "cell_type": "code",
      "execution_count": 13,
      "metadata": {
        "collapsed": false
      },
      "outputs": [],
      "source": [
        "# Download training data from open datasets.\n",
        "training_data = datasets.FashionMNIST(\n",
        "    root=\"data\",\n",
        "    train=True,\n",
        "    download=True,\n",
        "    transform=ToTensor(),\n",
        ")\n",
        "\n",
        "# Download test data from open datasets.\n",
        "test_data = datasets.FashionMNIST(\n",
        "    root=\"data\",\n",
        "    train=False,\n",
        "    download=True,\n",
        "    transform=ToTensor(),\n",
        ")"
      ]
    },
    {
      "cell_type": "code",
      "execution_count": 14,
      "metadata": {
        "collapsed": false
      },
      "outputs": [
        {
          "name": "stdout",
          "output_type": "stream",
          "text": [
            "Shape of X [N, C, H, W]: torch.Size([64, 1, 28, 28])\n",
            "Shape of y: torch.Size([64]) torch.int64\n"
          ]
        }
      ],
      "source": [
        "batch_size = 256\n",
        "\n",
        "# Create data loaders.\n",
        "train_dataloader = DataLoader(training_data, batch_size=batch_size)\n",
        "test_dataloader = DataLoader(test_data, batch_size=batch_size)\n",
        "\n",
        "for X, y in test_dataloader:\n",
        "    print(f\"Shape of X [N, C, H, W]: {X.shape}\")\n",
        "    print(f\"Shape of y: {y.shape} {y.dtype}\")\n",
        "    break"
      ]
    },
    {
      "cell_type": "code",
      "execution_count": 15,
      "metadata": {
        "collapsed": false
      },
      "outputs": [],
      "source": [
        "# Get cpu, gpu or mps device for training.\n",
        "device = (\"cpu\")\n",
        "# Define model\n",
        "class NeuralNetwork(nn.Module):\n",
        "    def __init__(self):\n",
        "        super().__init__()\n",
        "        self.flatten = nn.Flatten()\n",
        "        self.linear_relu_stack = nn.Sequential(\n",
        "            nn.Linear(28*28, 512),\n",
        "            nn.ReLU(),\n",
        "            nn.Linear(512, 512),\n",
        "            nn.ReLU(),\n",
        "            nn.Linear(512, 10)\n",
        "        )\n",
        "\n",
        "    def forward(self, x):\n",
        "        x = self.flatten(x)\n",
        "        logits = self.linear_relu_stack(x)\n",
        "        return logits\n",
        "\n",
        "model = NeuralNetwork().to(device)"
      ]
    },
    {
      "cell_type": "code",
      "execution_count": 16,
      "metadata": {
        "collapsed": false
      },
      "outputs": [],
      "source": [
        "loss_fn = nn.CrossEntropyLoss()\n",
        "optimizer = torch.optim.SGD(model.parameters(), lr=1e-3)"
      ]
    },
    {
      "cell_type": "code",
      "execution_count": 17,
      "metadata": {
        "collapsed": false
      },
      "outputs": [],
      "source": [
        "def train(dataloader, model, loss_fn, optimizer):\n",
        "    size = len(dataloader.dataset)\n",
        "    model.train()\n",
        "    for batch, (X, y) in enumerate(dataloader):\n",
        "        X, y = X.to(device), y.to(device)\n",
        "\n",
        "        # Compute prediction error\n",
        "        pred = model(X)\n",
        "        loss = loss_fn(pred, y)\n",
        "\n",
        "        # Backpropagation\n",
        "        loss.backward()\n",
        "        optimizer.step()\n",
        "        optimizer.zero_grad()\n",
        "\n",
        "        if batch % 100 == 0:\n",
        "            loss, current = loss.item(), (batch + 1) * len(X)\n",
        "            print(f\"loss: {loss:>7f}  [{current:>5d}/{size:>5d}]\")"
      ]
    },
    {
      "cell_type": "code",
      "execution_count": 18,
      "metadata": {
        "collapsed": false
      },
      "outputs": [],
      "source": [
        "def test(dataloader, model, loss_fn):\n",
        "    size = len(dataloader.dataset)\n",
        "    num_batches = len(dataloader)\n",
        "    model.eval()\n",
        "    test_loss, correct = 0, 0\n",
        "    with torch.no_grad():\n",
        "        for X, y in dataloader:\n",
        "            X, y = X.to(device), y.to(device)\n",
        "            pred = model(X)\n",
        "            test_loss += loss_fn(pred, y).item()\n",
        "            correct += (pred.argmax(1) == y).type(torch.float).sum().item()\n",
        "    test_loss /= num_batches\n",
        "    correct /= size\n",
        "    print(f\"Test Error: \\n Accuracy: {(100*correct):>0.1f}%, Avg loss: {test_loss:>8f} \\n\")"
      ]
    },
    {
      "attachments": {},
      "cell_type": "markdown",
      "metadata": {},
      "source": [
        "## Setting up Checkpointer\n",
        "In its basic configuration, it is enough to simply save and load the model checkpoint. For a more useful application, the losses, epoch number and more can be stored defining a custom `checkpoint_function` and `restore_function`"
      ]
    },
    {
      "cell_type": "code",
      "execution_count": 19,
      "metadata": {},
      "outputs": [],
      "source": [
        "from pathlib import Path\n",
        "from checkpointer.checkpointer import Checkpointer\n",
        "\n",
        "checkpointer = Checkpointer(\n",
        "    local_checkpoint_file=Path(\"checkpoint.pt\"),\n",
        "    restore_function=lambda path: torch.load(path),\n",
        "    checkpoint_function=lambda path, model: torch.save(model.state_dict(), path),\n",
        "    checkpoint_every=100,\n",
        ")"
      ]
    },
    {
      "cell_type": "code",
      "execution_count": 20,
      "metadata": {
        "collapsed": false
      },
      "outputs": [
        {
          "name": "stdout",
          "output_type": "stream",
          "text": [
            "Epoch 1\n",
            "-------------------------------\n",
            "loss: 2.298964  [   64/60000]\n",
            "loss: 2.290950  [ 6464/60000]\n",
            "loss: 2.268433  [12864/60000]\n",
            "loss: 2.267698  [19264/60000]\n",
            "loss: 2.243402  [25664/60000]\n",
            "loss: 2.216774  [32064/60000]\n",
            "loss: 2.225729  [38464/60000]\n",
            "loss: 2.187198  [44864/60000]\n",
            "loss: 2.187707  [51264/60000]\n",
            "loss: 2.162364  [57664/60000]\n",
            "Test Error: \n",
            " Accuracy: 42.2%, Avg loss: 2.146602 \n",
            "\n",
            "Epoch 2\n",
            "-------------------------------\n",
            "loss: 2.151340  [   64/60000]\n",
            "loss: 2.150944  [ 6464/60000]\n",
            "loss: 2.089247  [12864/60000]\n",
            "loss: 2.116757  [19264/60000]\n",
            "loss: 2.058106  [25664/60000]\n",
            "loss: 1.993156  [32064/60000]\n",
            "loss: 2.037151  [38464/60000]\n",
            "loss: 1.943997  [44864/60000]\n",
            "loss: 1.954421  [51264/60000]\n",
            "loss: 1.898797  [57664/60000]\n",
            "Test Error: \n",
            " Accuracy: 57.1%, Avg loss: 1.880005 \n",
            "\n"
          ]
        }
      ],
      "source": [
        "epochs = 2\n",
        "state_dict = checkpointer.restore(model.state_dict())\n",
        "model.load_state_dict(state_dict)\n",
        "for t in range(epochs):\n",
        "    print(f\"Epoch {t+1}\\n-------------------------------\")\n",
        "    train(train_dataloader, model, loss_fn, optimizer)\n",
        "    test(test_dataloader, model, loss_fn)\n",
        "    checkpointer.checkpoint(model)"
      ]
    },
    {
      "cell_type": "code",
      "execution_count": 21,
      "metadata": {},
      "outputs": [
        {
          "name": "stdout",
          "output_type": "stream",
          "text": [
            "Epoch 1\n",
            "-------------------------------\n",
            "loss: 1.903516  [   64/60000]\n",
            "loss: 1.886605  [ 6464/60000]\n",
            "loss: 1.760881  [12864/60000]\n",
            "loss: 1.821035  [19264/60000]\n",
            "loss: 1.701118  [25664/60000]\n",
            "loss: 1.643944  [32064/60000]\n",
            "loss: 1.692207  [38464/60000]\n",
            "loss: 1.566296  [44864/60000]\n",
            "loss: 1.601741  [51264/60000]\n",
            "loss: 1.514306  [57664/60000]\n",
            "Test Error: \n",
            " Accuracy: 60.3%, Avg loss: 1.508909 \n",
            "\n",
            "Epoch 2\n",
            "-------------------------------\n",
            "loss: 1.567466  [   64/60000]\n",
            "loss: 1.540227  [ 6464/60000]\n",
            "loss: 1.379034  [12864/60000]\n",
            "loss: 1.471698  [19264/60000]\n",
            "loss: 1.343177  [25664/60000]\n",
            "loss: 1.330100  [32064/60000]\n",
            "loss: 1.367873  [38464/60000]\n",
            "loss: 1.265731  [44864/60000]\n",
            "loss: 1.310724  [51264/60000]\n",
            "loss: 1.225289  [57664/60000]\n",
            "Test Error: \n",
            " Accuracy: 63.5%, Avg loss: 1.235264 \n",
            "\n"
          ]
        }
      ],
      "source": [
        "state_dict = checkpointer.restore(model.state_dict())\n",
        "model.load_state_dict(state_dict)\n",
        "for t in range(epochs):\n",
        "    print(f\"Epoch {t+1}\\n-------------------------------\")\n",
        "    train(train_dataloader, model, loss_fn, optimizer)\n",
        "    test(test_dataloader, model, loss_fn)\n",
        "    checkpointer.checkpoint(model)"
      ]
    },
    {
      "cell_type": "code",
      "execution_count": null,
      "metadata": {},
      "outputs": [],
      "source": []
    }
  ],
  "metadata": {
    "kernelspec": {
      "display_name": "Python 3 (ipykernel)",
      "language": "python",
      "name": "python3"
    },
    "language_info": {
      "codemirror_mode": {
        "name": "ipython",
        "version": 3
      },
      "file_extension": ".py",
      "mimetype": "text/x-python",
      "name": "python",
      "nbconvert_exporter": "python",
      "pygments_lexer": "ipython3",
      "version": "3.10.6"
    }
  },
  "nbformat": 4,
  "nbformat_minor": 0
}
